{
 "cells": [
  {
   "cell_type": "code",
   "execution_count": 9,
   "metadata": {},
   "outputs": [
    {
     "name": "stdout",
     "output_type": "stream",
     "text": [
      "Requirement already satisfied: rpy2 in ./opt/anaconda3/envs/r-tutorials/lib/python3.7/site-packages (3.3.3)\n",
      "Requirement already satisfied: jinja2 in ./opt/anaconda3/envs/r-tutorials/lib/python3.7/site-packages (from rpy2) (2.11.2)\n",
      "Requirement already satisfied: pytz in ./opt/anaconda3/envs/r-tutorials/lib/python3.7/site-packages (from rpy2) (2020.1)\n",
      "Requirement already satisfied: cffi>=1.10.0 in ./opt/anaconda3/envs/r-tutorials/lib/python3.7/site-packages (from rpy2) (1.14.0)\n",
      "Requirement already satisfied: pytest in ./opt/anaconda3/envs/r-tutorials/lib/python3.7/site-packages (from rpy2) (5.4.3)\n",
      "Requirement already satisfied: tzlocal in ./opt/anaconda3/envs/r-tutorials/lib/python3.7/site-packages (from rpy2) (2.1)\n",
      "Requirement already satisfied: MarkupSafe>=0.23 in ./opt/anaconda3/envs/r-tutorials/lib/python3.7/site-packages (from jinja2->rpy2) (1.1.1)\n",
      "Requirement already satisfied: pycparser in ./opt/anaconda3/envs/r-tutorials/lib/python3.7/site-packages (from cffi>=1.10.0->rpy2) (2.20)\n",
      "Requirement already satisfied: importlib-metadata>=0.12; python_version < \"3.8\" in ./opt/anaconda3/envs/r-tutorials/lib/python3.7/site-packages (from pytest->rpy2) (1.5.0)\n",
      "Requirement already satisfied: pluggy<1.0,>=0.12 in ./opt/anaconda3/envs/r-tutorials/lib/python3.7/site-packages (from pytest->rpy2) (0.13.1)\n",
      "Requirement already satisfied: wcwidth in ./opt/anaconda3/envs/r-tutorials/lib/python3.7/site-packages (from pytest->rpy2) (0.1.9)\n",
      "Requirement already satisfied: py>=1.5.0 in ./opt/anaconda3/envs/r-tutorials/lib/python3.7/site-packages (from pytest->rpy2) (1.8.1)\n",
      "Requirement already satisfied: packaging in ./opt/anaconda3/envs/r-tutorials/lib/python3.7/site-packages (from pytest->rpy2) (20.4)\n",
      "Requirement already satisfied: attrs>=17.4.0 in ./opt/anaconda3/envs/r-tutorials/lib/python3.7/site-packages (from pytest->rpy2) (19.3.0)\n",
      "Requirement already satisfied: more-itertools>=4.0.0 in ./opt/anaconda3/envs/r-tutorials/lib/python3.7/site-packages (from pytest->rpy2) (8.3.0)\n",
      "Requirement already satisfied: zipp>=0.5 in ./opt/anaconda3/envs/r-tutorials/lib/python3.7/site-packages (from importlib-metadata>=0.12; python_version < \"3.8\"->pytest->rpy2) (3.1.0)\n",
      "Requirement already satisfied: pyparsing>=2.0.2 in ./opt/anaconda3/envs/r-tutorials/lib/python3.7/site-packages (from packaging->pytest->rpy2) (2.4.7)\n",
      "Requirement already satisfied: six in ./opt/anaconda3/envs/r-tutorials/lib/python3.7/site-packages (from packaging->pytest->rpy2) (1.14.0)\n",
      "Note: you may need to restart the kernel to use updated packages.\n"
     ]
    }
   ],
   "source": [
    "pip install rpy2"
   ]
  },
  {
   "cell_type": "code",
   "execution_count": 3,
   "metadata": {},
   "outputs": [
    {
     "name": "stdout",
     "output_type": "stream",
     "text": [
      "Collecting pandas\n",
      "  Downloading pandas-1.0.4-cp37-cp37m-macosx_10_9_x86_64.whl (10.0 MB)\n",
      "\u001b[K     |████████████████████████████████| 10.0 MB 4.3 MB/s eta 0:00:01\n",
      "\u001b[?25hRequirement already satisfied: numpy>=1.13.3 in /Users/clementinecourdi/opt/anaconda3/envs/r-tutorials/lib/python3.7/site-packages (from pandas) (1.18.5)\n",
      "Requirement already satisfied: pytz>=2017.2 in /Users/clementinecourdi/opt/anaconda3/envs/r-tutorials/lib/python3.7/site-packages (from pandas) (2020.1)\n",
      "Requirement already satisfied: python-dateutil>=2.6.1 in /Users/clementinecourdi/opt/anaconda3/envs/r-tutorials/lib/python3.7/site-packages (from pandas) (2.8.1)\n",
      "Requirement already satisfied: six>=1.5 in /Users/clementinecourdi/opt/anaconda3/envs/r-tutorials/lib/python3.7/site-packages (from python-dateutil>=2.6.1->pandas) (1.14.0)\n",
      "Installing collected packages: pandas\n",
      "Successfully installed pandas-1.0.4\n",
      "Note: you may need to restart the kernel to use updated packages.\n"
     ]
    }
   ],
   "source": [
    "pip install pandas"
   ]
  },
  {
   "cell_type": "code",
   "execution_count": 10,
   "metadata": {},
   "outputs": [
    {
     "name": "stdout",
     "output_type": "stream",
     "text": [
      "Collecting numpy\n",
      "  Downloading numpy-1.18.5-cp37-cp37m-macosx_10_9_x86_64.whl (15.1 MB)\n",
      "\u001b[K     |████████████████████████████████| 15.1 MB 954 kB/s eta 0:00:01\n",
      "\u001b[?25hInstalling collected packages: numpy\n",
      "Successfully installed numpy-1.18.5\n",
      "Note: you may need to restart the kernel to use updated packages.\n"
     ]
    }
   ],
   "source": [
    "pip install numpy"
   ]
  },
  {
   "cell_type": "code",
   "execution_count": 6,
   "metadata": {},
   "outputs": [],
   "source": [
    "%reload_ext rpy2.ipython\n"
   ]
  },
  {
   "cell_type": "markdown",
   "metadata": {},
   "source": []
  },
  {
   "cell_type": "code",
   "execution_count": 1,
   "metadata": {},
   "outputs": [
    {
     "name": "stdout",
     "output_type": "stream",
     "text": [
      "Cloning into '23Rcode'...\n",
      "remote: Enumerating objects: 10, done.\u001b[K\n",
      "remote: Counting objects: 100% (10/10), done.\u001b[K\n",
      "remote: Compressing objects: 100% (8/8), done.\u001b[K\n",
      "remote: Total 10 (delta 1), reused 0 (delta 0), pack-reused 0\u001b[K\n",
      "Unpacking objects: 100% (10/10), done.\n"
     ]
    }
   ],
   "source": [
    "!git clone https://github.com/clemcou-socio/23Rcode.git"
   ]
  },
  {
   "cell_type": "code",
   "execution_count": 4,
   "metadata": {},
   "outputs": [
    {
     "name": "stdout",
     "output_type": "stream",
     "text": [
      "   Unnamed: 0  ID  ECOLE  STATUT  MALE  AGE  PAR_IMM  MINORITY  SCOLMAX  \\\n",
      "0         367   1     14       1     1   17        0         0        4   \n",
      "1         368   2     14       0     0   15        1         0        2   \n",
      "2         369   3     14       1     0   17        1         1        3   \n",
      "3         370   4     14       1     0   17        0         0        4   \n",
      "4         371   5     14       1     0   17        1         1        4   \n",
      "\n",
      "   TRAVAILM  ...  SEVER912DICO  MODER203DICO  MODER236DICO  MODER269DICO  \\\n",
      "0         1  ...             0             0             0             0   \n",
      "1         0  ...             0             1             0             0   \n",
      "2         1  ...             0             0             0             0   \n",
      "3         1  ...             0             1             1             0   \n",
      "4         1  ...             0             0             0             1   \n",
      "\n",
      "   MODER2912DICO  LOW203DICO  LOW236DICO  LOW269DICO  LOW2912DICO  CHRONSEVACT  \n",
      "0              0           1           0           0            0            0  \n",
      "1              0           1           1           1            1            1  \n",
      "2              0           1           1           1            1            0  \n",
      "3              0           0           1           1            1            0  \n",
      "4              0           1           1           0            0            1  \n",
      "\n",
      "[5 rows x 36 columns]\n"
     ]
    }
   ],
   "source": [
    "import pandas as pd\n",
    "SD = pd.read_csv('23Rcode/SD.csv') \n",
    "print(SD.head(5))"
   ]
  },
  {
   "cell_type": "code",
   "execution_count": null,
   "metadata": {},
   "outputs": [],
   "source": [
    "%%R \n",
    "\n",
    "install.packages(\"CUFF\") \n",
    "install.packages (\"dplyr\") \n",
    "install.packages(\"ggplot2\")\n",
    "install.packages(\"haven\") \n",
    "\n",
    "\n",
    "require(dplyr, quietly = TRUE, warn.conflicts = FALSE) \n",
    "require(ggplot2, quietly = TRUE, warn.conflicts = FALSE)  \n",
    "require(CUFF, quietly = TRUE, warn.conflicts = FALSE) \n",
    "require(haven, quietly = TRUE, warn.conflicts = FALSE)"
   ]
  },
  {
   "cell_type": "raw",
   "metadata": {},
   "source": [
    "#Activer code R pour la cellule\n",
    "#Téléchargement des packages nécessaire à l'analyse\n",
    "#Package CUFF (Charles's Utility Function using Formula) pour affichage des variables\n",
    "\n",
    "#Package dplyr pour manipulation flexible des données\n",
    "#Package ggplot2 pour création de graphiques \n",
    "#Package CUFF (Charles's Utility Function using Formula) pour affichage des variables\n",
    "#Package haven pour importer des données d'autres formats dans R"
   ]
  },
  {
   "cell_type": "code",
   "execution_count": null,
   "metadata": {},
   "outputs": [],
   "source": [
    "%%R \n",
    "\n",
    "library(readr)\n",
    "SD.df <- read_csv(\"23Rcode/SD.csv\")\n",
    "ls(SD.df)"
   ]
  },
  {
   "cell_type": "code",
   "execution_count": null,
   "metadata": {},
   "outputs": [],
   "source": []
  }
 ],
 "metadata": {
  "kernelspec": {
   "display_name": "Python 3",
   "language": "python",
   "name": "python3"
  },
  "language_info": {
   "codemirror_mode": {
    "name": "ipython",
    "version": 3
   },
   "file_extension": ".py",
   "mimetype": "text/x-python",
   "name": "python",
   "nbconvert_exporter": "python",
   "pygments_lexer": "ipython3",
   "version": "3.7.7"
  }
 },
 "nbformat": 4,
 "nbformat_minor": 4
}
